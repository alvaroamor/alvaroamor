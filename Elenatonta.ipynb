{
  "cells": [
    {
      "cell_type": "markdown",
      "metadata": {
        "id": "view-in-github",
        "colab_type": "text"
      },
      "source": [
        "<a href=\"https://colab.research.google.com/github/alvaroamor/alvaroamor/blob/master/Elenatonta.ipynb\" target=\"_parent\"><img src=\"https://colab.research.google.com/assets/colab-badge.svg\" alt=\"Open In Colab\"/></a>"
      ]
    },
    {
      "cell_type": "code",
      "execution_count": 1,
      "metadata": {
        "id": "D4fsqoKSuuW4"
      },
      "outputs": [],
      "source": [
        "import requests\n",
        "import pandas as pd\n",
        "import json\n",
        "import ast\n",
        "import yaml"
      ]
    },
    {
      "cell_type": "code",
      "source": [
        "def create_twitter_url():\n",
        "    handle = \"Elena25__\"\n",
        "    max_results = 100\n",
        "    mrf = \"max_results={}\".format(max_results)\n",
        "    q = \"query=from:{}\".format(handle)\n",
        "    url = \"https://api.twitter.com/2/tweets/search/all?{}&{}\".format(\n",
        "        mrf, q\n",
        "    )\n",
        "    return url"
      ],
      "metadata": {
        "id": "mkvgcEtam2_z"
      },
      "execution_count": 2,
      "outputs": []
    },
    {
      "cell_type": "code",
      "source": [
        "url = create_twitter_url()\n",
        "print(url)"
      ],
      "metadata": {
        "colab": {
          "base_uri": "https://localhost:8080/"
        },
        "id": "AX11R8ZlDlno",
        "outputId": "10a107d5-7dcc-48c0-b5b2-0ba91e6b7488"
      },
      "execution_count": 3,
      "outputs": [
        {
          "output_type": "stream",
          "name": "stdout",
          "text": [
            "https://api.twitter.com/2/tweets/search/all?max_results=100&query=from:Elena25__\n"
          ]
        }
      ]
    },
    {
      "cell_type": "code",
      "source": [
        "def process_yaml():\n",
        "    with open(\"config.yaml\") as file:\n",
        "        return yaml.safe_load(file)"
      ],
      "metadata": {
        "id": "vwWCB2qRzgF7"
      },
      "execution_count": 4,
      "outputs": []
    },
    {
      "cell_type": "code",
      "source": [
        "data = process_yaml()"
      ],
      "metadata": {
        "id": "LrkVfioMDtgj"
      },
      "execution_count": 6,
      "outputs": []
    },
    {
      "cell_type": "code",
      "source": [
        "def create_bearer_token(data):\n",
        "    return data[\"search_tweets_api\"][\"bearer_token\"]"
      ],
      "metadata": {
        "id": "eyCWKsKi0-1T"
      },
      "execution_count": 7,
      "outputs": []
    },
    {
      "cell_type": "code",
      "source": [
        "bearer_token = create_bearer_token(data)"
      ],
      "metadata": {
        "id": "BJNWKB2rDy8D"
      },
      "execution_count": 8,
      "outputs": []
    },
    {
      "cell_type": "code",
      "source": [
        "def twitter_auth_and_connect(bearer_token, url):\n",
        "    headers = {\"Authorization\": \"Bearer {}\".format(bearer_token)}\n",
        "    response = requests.request(\"GET\", url, headers=headers)\n",
        "    return response.json()"
      ],
      "metadata": {
        "id": "j-mDkiTAm3Ie"
      },
      "execution_count": 9,
      "outputs": []
    },
    {
      "cell_type": "code",
      "source": [
        "res_json = twitter_auth_and_connect(bearer_token, url)\n",
        "print(res_json)\n",
        "if res_json == {'meta': {'result_count': 0}}:\n",
        "    print(\"Check to see if the Twitter handle has Tweeted in the last 7 days\")"
      ],
      "metadata": {
        "colab": {
          "base_uri": "https://localhost:8080/"
        },
        "id": "xVZhvouJD2Ug",
        "outputId": "3c56fab5-a268-4b24-e169-22b48ae5fd85"
      },
      "execution_count": 10,
      "outputs": [
        {
          "output_type": "stream",
          "name": "stdout",
          "text": [
            "{'data': [{'id': '1504496211717459973', 'text': 'RT @albaricoque_acg: Mi cabeza https://t.co/bkOI9e75EJ'}, {'id': '1503258942255902721', 'text': 'RT @albaricoque_acg: Necesidades https://t.co/LiC9biY8IE'}, {'id': '1499672168690589698', 'text': 'RT @jaaysart: The painting                  The palette https://t.co/1S8ZiYGiAr'}, {'id': '1499671447219933185', 'text': 'RT @maanso__: ir a la playa por la noche y escuchar las olas es todo lo que necesito ahora mismo'}, {'id': '1499345085338689538', 'text': 'Holi👋🏼\\nHace un tiempo empecé a trabajar sobre un proyecto de abstracción basado en la belleza de la  figura humana. \\nOs dejo el enlace a mi perfil por si queréis echarle un vistacillo y compartirlo🤩💖\\nhttps://t.co/RjXioBavtj'}, {'id': '1499316606689808387', 'text': 'RT @AcademiaAesthe1: A magical show by a big murmuration of starlings.\\n\\n🎥 by Claire Droppert. https://t.co/dS26PENrFb'}, {'id': '1499006145079431175', 'text': 'RT @ImagenRetro: https://t.co/IT89CoEACL'}, {'id': '1499005891856809985', 'text': 'RT @ladegirona: manifiesten https://t.co/pZvMmE7RhZ'}, {'id': '1499005152648482824', 'text': 'RT @follacamiones24: https://t.co/46D9xik8nl'}, {'id': '1498344733596430338', 'text': 'RT @soycamarero: ¿Qué hiciste en tu día libre?\\n\\nYo: https://t.co/TeguDeheH9'}, {'id': '1498195206151225354', 'text': 'RT @alesinte: yendo a curar a tu pokemon en el pokemon españa https://t.co/nBRWmUPDdi'}, {'id': '1498194926026244099', 'text': 'RT @TitaDinamitta: Personajes que detestáis hasta casi apagar la tele. \\n\\nEmpiezo yo: Arturito de La casa de papel.'}, {'id': '1497908536663236608', 'text': 'RT @Guarromantico_: Cuando te juntas mucho con alguien y se te empiezan a pegar sus palabras: https://t.co/QmjlOEm5a0'}, {'id': '1497856043598102531', 'text': 'RT @OcerYRade: Eres arte cuando eres tú'}, {'id': '1497855390620565508', 'text': 'RT @DiloConPerritos: Pollitos 1 \\nPerritos 0 https://t.co/HGj2u7HXBe'}, {'id': '1497261974782201863', 'text': 'RT @alfajororeoo: Tuve un problema con photoshop asi que busque soluciones en foros y encontré un post mio consultando por exactamente el m…'}, {'id': '1496485232064835589', 'text': 'RT @_caarrrr: viva https://t.co/113nCV411D'}, {'id': '1496139319865655311', 'text': 'RT @XaviBarbeta: \"Estudiant en la Universitat de Columbia\", 1948.\\n📷 Stanley Kubrick https://t.co/8h79qlD0dz'}, {'id': '1496028145446756353', 'text': 'RT @kheayf: https://t.co/Vv3ab1QZpF'}, {'id': '1495559495522701316', 'text': '@pabletesmaart no'}, {'id': '1493571322210918407', 'text': 'RT @alfonso_casas_: Hoy, mañana y SIEMPRE, no se te olvide decir(te) “te quiero” https://t.co/A2v5gfTg4O'}, {'id': '1493570407106023427', 'text': 'PLAZA PÚBLICA. \"Crónica de una muerte anunciada\": El documental que crea conciencia sobre el Mar Menor https://t.co/pEG3PfyG3j vía @ormurcia'}], 'meta': {'newest_id': '1504496211717459973', 'oldest_id': '1493570407106023427', 'result_count': 22}}\n"
          ]
        }
      ]
    },
    {
      "cell_type": "code",
      "source": [
        "def lang_data_shape(res_json):\n",
        "    data_only = res_json[\"data\"]\n",
        "    doc_start = '\"documents\": {}'.format(data_only)\n",
        "    str_json = \"{\" + doc_start + \"}\"\n",
        "    dump_doc = json.dumps(str_json)\n",
        "    doc = json.loads(dump_doc)\n",
        "    return ast.literal_eval(doc)"
      ],
      "metadata": {
        "id": "VfyOJ407EM8Q"
      },
      "execution_count": 11,
      "outputs": []
    },
    {
      "cell_type": "code",
      "source": [
        "documents = lang_data_shape(res_json)\n",
        "print(documents)"
      ],
      "metadata": {
        "colab": {
          "base_uri": "https://localhost:8080/"
        },
        "id": "pP1m7zyOEQa6",
        "outputId": "2335138a-20b8-4472-d959-4a88aa55cf15"
      },
      "execution_count": 12,
      "outputs": [
        {
          "output_type": "stream",
          "name": "stdout",
          "text": [
            "{'documents': [{'id': '1504496211717459973', 'text': 'RT @albaricoque_acg: Mi cabeza https://t.co/bkOI9e75EJ'}, {'id': '1503258942255902721', 'text': 'RT @albaricoque_acg: Necesidades https://t.co/LiC9biY8IE'}, {'id': '1499672168690589698', 'text': 'RT @jaaysart: The painting                  The palette https://t.co/1S8ZiYGiAr'}, {'id': '1499671447219933185', 'text': 'RT @maanso__: ir a la playa por la noche y escuchar las olas es todo lo que necesito ahora mismo'}, {'id': '1499345085338689538', 'text': 'Holi👋🏼\\nHace un tiempo empecé a trabajar sobre un proyecto de abstracción basado en la belleza de la  figura humana. \\nOs dejo el enlace a mi perfil por si queréis echarle un vistacillo y compartirlo🤩💖\\nhttps://t.co/RjXioBavtj'}, {'id': '1499316606689808387', 'text': 'RT @AcademiaAesthe1: A magical show by a big murmuration of starlings.\\n\\n🎥 by Claire Droppert. https://t.co/dS26PENrFb'}, {'id': '1499006145079431175', 'text': 'RT @ImagenRetro: https://t.co/IT89CoEACL'}, {'id': '1499005891856809985', 'text': 'RT @ladegirona: manifiesten https://t.co/pZvMmE7RhZ'}, {'id': '1499005152648482824', 'text': 'RT @follacamiones24: https://t.co/46D9xik8nl'}, {'id': '1498344733596430338', 'text': 'RT @soycamarero: ¿Qué hiciste en tu día libre?\\n\\nYo: https://t.co/TeguDeheH9'}, {'id': '1498195206151225354', 'text': 'RT @alesinte: yendo a curar a tu pokemon en el pokemon españa https://t.co/nBRWmUPDdi'}, {'id': '1498194926026244099', 'text': 'RT @TitaDinamitta: Personajes que detestáis hasta casi apagar la tele. \\n\\nEmpiezo yo: Arturito de La casa de papel.'}, {'id': '1497908536663236608', 'text': 'RT @Guarromantico_: Cuando te juntas mucho con alguien y se te empiezan a pegar sus palabras: https://t.co/QmjlOEm5a0'}, {'id': '1497856043598102531', 'text': 'RT @OcerYRade: Eres arte cuando eres tú'}, {'id': '1497855390620565508', 'text': 'RT @DiloConPerritos: Pollitos 1 \\nPerritos 0 https://t.co/HGj2u7HXBe'}, {'id': '1497261974782201863', 'text': 'RT @alfajororeoo: Tuve un problema con photoshop asi que busque soluciones en foros y encontré un post mio consultando por exactamente el m…'}, {'id': '1496485232064835589', 'text': 'RT @_caarrrr: viva https://t.co/113nCV411D'}, {'id': '1496139319865655311', 'text': 'RT @XaviBarbeta: \"Estudiant en la Universitat de Columbia\", 1948.\\n📷 Stanley Kubrick https://t.co/8h79qlD0dz'}, {'id': '1496028145446756353', 'text': 'RT @kheayf: https://t.co/Vv3ab1QZpF'}, {'id': '1495559495522701316', 'text': '@pabletesmaart no'}, {'id': '1493571322210918407', 'text': 'RT @alfonso_casas_: Hoy, mañana y SIEMPRE, no se te olvide decir(te) “te quiero” https://t.co/A2v5gfTg4O'}, {'id': '1493570407106023427', 'text': 'PLAZA PÚBLICA. \"Crónica de una muerte anunciada\": El documental que crea conciencia sobre el Mar Menor https://t.co/pEG3PfyG3j vía @ormurcia'}]}\n"
          ]
        }
      ]
    },
    {
      "cell_type": "code",
      "source": [
        "def connect_to_azure(data):\n",
        "    azure_url = \"https://tweetmining2.cognitiveservices.azure.com/\"\n",
        "    language_api_url = \"{}text/analytics/v2.1/languages\".format(azure_url)\n",
        "    sentiment_url = \"{}text/analytics/v2.1/sentiment\".format(azure_url)\n",
        "    subscription_key = data[\"azure\"][\"subscription_key\"]\n",
        "    return language_api_url, sentiment_url, subscription_key"
      ],
      "metadata": {
        "id": "8rO7Fg55EWYB"
      },
      "execution_count": 13,
      "outputs": []
    },
    {
      "cell_type": "code",
      "source": [
        "language_api_url, sentiment_url, subscription_key = connect_to_azure(data)"
      ],
      "metadata": {
        "id": "cqMM3qjbEZKv"
      },
      "execution_count": 14,
      "outputs": []
    },
    {
      "cell_type": "code",
      "source": [
        "def azure_header(subscription_key):\n",
        "    return {\"Ocp-Apim-Subscription-Key\": subscription_key}"
      ],
      "metadata": {
        "id": "Rh0yztPDEbjU"
      },
      "execution_count": 15,
      "outputs": []
    },
    {
      "cell_type": "code",
      "source": [
        "headers = azure_header(subscription_key)"
      ],
      "metadata": {
        "id": "7am8PIBXEfY1"
      },
      "execution_count": 16,
      "outputs": []
    },
    {
      "cell_type": "code",
      "source": [
        "def generate_languages(headers, language_api_url, documents):\n",
        "    response = requests.post(language_api_url, headers=headers, json=documents)\n",
        "    return response.json()"
      ],
      "metadata": {
        "id": "mNa5IuFYEhtk"
      },
      "execution_count": 17,
      "outputs": []
    },
    {
      "cell_type": "code",
      "source": [
        "with_languages = generate_languages(headers, language_api_url, documents)\n",
        "print(with_languages)"
      ],
      "metadata": {
        "colab": {
          "base_uri": "https://localhost:8080/"
        },
        "id": "QE_j-vyzEkgn",
        "outputId": "515a8571-f015-4ee1-c2bf-d0add7622ab4"
      },
      "execution_count": 18,
      "outputs": [
        {
          "output_type": "stream",
          "name": "stdout",
          "text": [
            "{'documents': [{'id': '1504496211717459973', 'detectedLanguages': [{'name': 'Spanish', 'iso6391Name': 'es', 'score': 0.8333333730697632}]}, {'id': '1503258942255902721', 'detectedLanguages': [{'name': 'Spanish', 'iso6391Name': 'es', 'score': 0.800000011920929}]}, {'id': '1499672168690589698', 'detectedLanguages': [{'name': 'English', 'iso6391Name': 'en', 'score': 1.0}]}, {'id': '1499671447219933185', 'detectedLanguages': [{'name': 'Spanish', 'iso6391Name': 'es', 'score': 0.949999988079071}]}, {'id': '1499345085338689538', 'detectedLanguages': [{'name': 'Spanish', 'iso6391Name': 'es', 'score': 1.0}]}, {'id': '1499316606689808387', 'detectedLanguages': [{'name': 'English', 'iso6391Name': 'en', 'score': 1.0}]}, {'id': '1499006145079431175', 'detectedLanguages': [{'name': 'English', 'iso6391Name': 'en', 'score': 1.0}]}, {'id': '1499005891856809985', 'detectedLanguages': [{'name': 'Spanish', 'iso6391Name': 'es', 'score': 1.0}]}, {'id': '1499005152648482824', 'detectedLanguages': [{'name': 'English', 'iso6391Name': 'en', 'score': 1.0}]}, {'id': '1498344733596430338', 'detectedLanguages': [{'name': 'Spanish', 'iso6391Name': 'es', 'score': 1.0}]}, {'id': '1498195206151225354', 'detectedLanguages': [{'name': 'Spanish', 'iso6391Name': 'es', 'score': 1.0}]}, {'id': '1498194926026244099', 'detectedLanguages': [{'name': 'Spanish', 'iso6391Name': 'es', 'score': 1.0}]}, {'id': '1497908536663236608', 'detectedLanguages': [{'name': 'Spanish', 'iso6391Name': 'es', 'score': 1.0}]}, {'id': '1497856043598102531', 'detectedLanguages': [{'name': 'Spanish', 'iso6391Name': 'es', 'score': 1.0}]}, {'id': '1497855390620565508', 'detectedLanguages': [{'name': 'Spanish', 'iso6391Name': 'es', 'score': 1.0}]}, {'id': '1497261974782201863', 'detectedLanguages': [{'name': 'Spanish', 'iso6391Name': 'es', 'score': 1.0}]}, {'id': '1496485232064835589', 'detectedLanguages': [{'name': 'Hungarian', 'iso6391Name': 'hu', 'score': 1.0}]}, {'id': '1496139319865655311', 'detectedLanguages': [{'name': 'Catalan', 'iso6391Name': 'ca', 'score': 0.9090908765792847}]}, {'id': '1496028145446756353', 'detectedLanguages': [{'name': 'English', 'iso6391Name': 'en', 'score': 1.0}]}, {'id': '1495559495522701316', 'detectedLanguages': [{'name': 'Spanish', 'iso6391Name': 'es', 'score': 1.0}]}, {'id': '1493571322210918407', 'detectedLanguages': [{'name': 'Spanish', 'iso6391Name': 'es', 'score': 1.0}]}, {'id': '1493570407106023427', 'detectedLanguages': [{'name': 'Spanish', 'iso6391Name': 'es', 'score': 1.0}]}], 'errors': []}\n"
          ]
        }
      ]
    },
    {
      "cell_type": "code",
      "source": [
        "def combine_lang_data(documents, with_languages):\n",
        "    langs = pd.DataFrame(with_languages[\"documents\"])\n",
        "    lang_iso = [x.get(\"iso6391Name\")\n",
        "                for d in langs.detectedLanguages if d for x in d]\n",
        "    data_only = documents[\"documents\"]\n",
        "    tweet_data = pd.DataFrame(data_only)\n",
        "    tweet_data.insert(2, \"language\", lang_iso, True)\n",
        "    json_lines = tweet_data.to_json(orient=\"records\")\n",
        "    return json_lines"
      ],
      "metadata": {
        "id": "r7EpQhW7J1Ra"
      },
      "execution_count": 21,
      "outputs": []
    },
    {
      "cell_type": "code",
      "source": [
        "json_lines = combine_lang_data(documents, with_languages)\n",
        "print(json_lines)"
      ],
      "metadata": {
        "colab": {
          "base_uri": "https://localhost:8080/"
        },
        "id": "1Q9PgWCrJ6Pk",
        "outputId": "988e8846-2c56-4a79-8bff-6fa6458edc04"
      },
      "execution_count": 22,
      "outputs": [
        {
          "output_type": "stream",
          "name": "stdout",
          "text": [
            "[{\"id\":\"1504496211717459973\",\"text\":\"RT @albaricoque_acg: Mi cabeza https:\\/\\/t.co\\/bkOI9e75EJ\",\"language\":\"es\"},{\"id\":\"1503258942255902721\",\"text\":\"RT @albaricoque_acg: Necesidades https:\\/\\/t.co\\/LiC9biY8IE\",\"language\":\"es\"},{\"id\":\"1499672168690589698\",\"text\":\"RT @jaaysart: The painting                  The palette https:\\/\\/t.co\\/1S8ZiYGiAr\",\"language\":\"en\"},{\"id\":\"1499671447219933185\",\"text\":\"RT @maanso__: ir a la playa por la noche y escuchar las olas es todo lo que necesito ahora mismo\",\"language\":\"es\"},{\"id\":\"1499345085338689538\",\"text\":\"Holi\\ud83d\\udc4b\\ud83c\\udffc\\nHace un tiempo empec\\u00e9 a trabajar sobre un proyecto de abstracci\\u00f3n basado en la belleza de la  figura humana. \\nOs dejo el enlace a mi perfil por si quer\\u00e9is echarle un vistacillo y compartirlo\\ud83e\\udd29\\ud83d\\udc96\\nhttps:\\/\\/t.co\\/RjXioBavtj\",\"language\":\"es\"},{\"id\":\"1499316606689808387\",\"text\":\"RT @AcademiaAesthe1: A magical show by a big murmuration of starlings.\\n\\n\\ud83c\\udfa5 by Claire Droppert. https:\\/\\/t.co\\/dS26PENrFb\",\"language\":\"en\"},{\"id\":\"1499006145079431175\",\"text\":\"RT @ImagenRetro: https:\\/\\/t.co\\/IT89CoEACL\",\"language\":\"en\"},{\"id\":\"1499005891856809985\",\"text\":\"RT @ladegirona: manifiesten https:\\/\\/t.co\\/pZvMmE7RhZ\",\"language\":\"es\"},{\"id\":\"1499005152648482824\",\"text\":\"RT @follacamiones24: https:\\/\\/t.co\\/46D9xik8nl\",\"language\":\"en\"},{\"id\":\"1498344733596430338\",\"text\":\"RT @soycamarero: \\u00bfQu\\u00e9 hiciste en tu d\\u00eda libre?\\n\\nYo: https:\\/\\/t.co\\/TeguDeheH9\",\"language\":\"es\"},{\"id\":\"1498195206151225354\",\"text\":\"RT @alesinte: yendo a curar a tu pokemon en el pokemon espa\\u00f1a https:\\/\\/t.co\\/nBRWmUPDdi\",\"language\":\"es\"},{\"id\":\"1498194926026244099\",\"text\":\"RT @TitaDinamitta: Personajes que detest\\u00e1is hasta casi apagar la tele. \\n\\nEmpiezo yo: Arturito de La casa de papel.\",\"language\":\"es\"},{\"id\":\"1497908536663236608\",\"text\":\"RT @Guarromantico_: Cuando te juntas mucho con alguien y se te empiezan a pegar sus palabras: https:\\/\\/t.co\\/QmjlOEm5a0\",\"language\":\"es\"},{\"id\":\"1497856043598102531\",\"text\":\"RT @OcerYRade: Eres arte cuando eres t\\u00fa\",\"language\":\"es\"},{\"id\":\"1497855390620565508\",\"text\":\"RT @DiloConPerritos: Pollitos 1 \\nPerritos 0 https:\\/\\/t.co\\/HGj2u7HXBe\",\"language\":\"es\"},{\"id\":\"1497261974782201863\",\"text\":\"RT @alfajororeoo: Tuve un problema con photoshop asi que busque soluciones en foros y encontr\\u00e9 un post mio consultando por exactamente el m\\u2026\",\"language\":\"es\"},{\"id\":\"1496485232064835589\",\"text\":\"RT @_caarrrr: viva https:\\/\\/t.co\\/113nCV411D\",\"language\":\"hu\"},{\"id\":\"1496139319865655311\",\"text\":\"RT @XaviBarbeta: \\\"Estudiant en la Universitat de Columbia\\\", 1948.\\n\\ud83d\\udcf7 Stanley Kubrick https:\\/\\/t.co\\/8h79qlD0dz\",\"language\":\"ca\"},{\"id\":\"1496028145446756353\",\"text\":\"RT @kheayf: https:\\/\\/t.co\\/Vv3ab1QZpF\",\"language\":\"en\"},{\"id\":\"1495559495522701316\",\"text\":\"@pabletesmaart no\",\"language\":\"es\"},{\"id\":\"1493571322210918407\",\"text\":\"RT @alfonso_casas_: Hoy, ma\\u00f1ana y SIEMPRE, no se te olvide decir(te) \\u201cte quiero\\u201d https:\\/\\/t.co\\/A2v5gfTg4O\",\"language\":\"es\"},{\"id\":\"1493570407106023427\",\"text\":\"PLAZA P\\u00daBLICA. \\\"Cr\\u00f3nica de una muerte anunciada\\\": El documental que crea conciencia sobre el Mar Menor https:\\/\\/t.co\\/pEG3PfyG3j v\\u00eda @ormurcia\",\"language\":\"es\"}]\n"
          ]
        }
      ]
    },
    {
      "cell_type": "code",
      "source": [
        "def add_document_format(json_lines):\n",
        "    docu_format = '\"' + \"documents\" + '\"'\n",
        "    json_docu_format = \"{}:{}\".format(docu_format, json_lines)\n",
        "    docu_align = \"{\" + json_docu_format + \"}\"\n",
        "    jd_align = json.dumps(docu_align)\n",
        "    jl_align = json.loads(jd_align)\n",
        "    return ast.literal_eval(jl_align)"
      ],
      "metadata": {
        "id": "l5OUxW2lJ9gK"
      },
      "execution_count": 23,
      "outputs": []
    },
    {
      "cell_type": "code",
      "source": [
        "document_format = add_document_format(json_lines)\n",
        "print(document_format)"
      ],
      "metadata": {
        "colab": {
          "base_uri": "https://localhost:8080/"
        },
        "id": "AXjNRiskKAsd",
        "outputId": "df974018-3652-4c1c-8bd6-b97b27b160be"
      },
      "execution_count": 24,
      "outputs": [
        {
          "output_type": "stream",
          "name": "stdout",
          "text": [
            "{'documents': [{'id': '1504496211717459973', 'text': 'RT @albaricoque_acg: Mi cabeza https:\\\\/\\\\/t.co\\\\/bkOI9e75EJ', 'language': 'es'}, {'id': '1503258942255902721', 'text': 'RT @albaricoque_acg: Necesidades https:\\\\/\\\\/t.co\\\\/LiC9biY8IE', 'language': 'es'}, {'id': '1499672168690589698', 'text': 'RT @jaaysart: The painting                  The palette https:\\\\/\\\\/t.co\\\\/1S8ZiYGiAr', 'language': 'en'}, {'id': '1499671447219933185', 'text': 'RT @maanso__: ir a la playa por la noche y escuchar las olas es todo lo que necesito ahora mismo', 'language': 'es'}, {'id': '1499345085338689538', 'text': 'Holi\\ud83d\\udc4b\\ud83c\\udffc\\nHace un tiempo empecé a trabajar sobre un proyecto de abstracción basado en la belleza de la  figura humana. \\nOs dejo el enlace a mi perfil por si queréis echarle un vistacillo y compartirlo\\ud83e\\udd29\\ud83d\\udc96\\nhttps:\\\\/\\\\/t.co\\\\/RjXioBavtj', 'language': 'es'}, {'id': '1499316606689808387', 'text': 'RT @AcademiaAesthe1: A magical show by a big murmuration of starlings.\\n\\n\\ud83c\\udfa5 by Claire Droppert. https:\\\\/\\\\/t.co\\\\/dS26PENrFb', 'language': 'en'}, {'id': '1499006145079431175', 'text': 'RT @ImagenRetro: https:\\\\/\\\\/t.co\\\\/IT89CoEACL', 'language': 'en'}, {'id': '1499005891856809985', 'text': 'RT @ladegirona: manifiesten https:\\\\/\\\\/t.co\\\\/pZvMmE7RhZ', 'language': 'es'}, {'id': '1499005152648482824', 'text': 'RT @follacamiones24: https:\\\\/\\\\/t.co\\\\/46D9xik8nl', 'language': 'en'}, {'id': '1498344733596430338', 'text': 'RT @soycamarero: ¿Qué hiciste en tu día libre?\\n\\nYo: https:\\\\/\\\\/t.co\\\\/TeguDeheH9', 'language': 'es'}, {'id': '1498195206151225354', 'text': 'RT @alesinte: yendo a curar a tu pokemon en el pokemon españa https:\\\\/\\\\/t.co\\\\/nBRWmUPDdi', 'language': 'es'}, {'id': '1498194926026244099', 'text': 'RT @TitaDinamitta: Personajes que detestáis hasta casi apagar la tele. \\n\\nEmpiezo yo: Arturito de La casa de papel.', 'language': 'es'}, {'id': '1497908536663236608', 'text': 'RT @Guarromantico_: Cuando te juntas mucho con alguien y se te empiezan a pegar sus palabras: https:\\\\/\\\\/t.co\\\\/QmjlOEm5a0', 'language': 'es'}, {'id': '1497856043598102531', 'text': 'RT @OcerYRade: Eres arte cuando eres tú', 'language': 'es'}, {'id': '1497855390620565508', 'text': 'RT @DiloConPerritos: Pollitos 1 \\nPerritos 0 https:\\\\/\\\\/t.co\\\\/HGj2u7HXBe', 'language': 'es'}, {'id': '1497261974782201863', 'text': 'RT @alfajororeoo: Tuve un problema con photoshop asi que busque soluciones en foros y encontré un post mio consultando por exactamente el m…', 'language': 'es'}, {'id': '1496485232064835589', 'text': 'RT @_caarrrr: viva https:\\\\/\\\\/t.co\\\\/113nCV411D', 'language': 'hu'}, {'id': '1496139319865655311', 'text': 'RT @XaviBarbeta: \"Estudiant en la Universitat de Columbia\", 1948.\\n\\ud83d\\udcf7 Stanley Kubrick https:\\\\/\\\\/t.co\\\\/8h79qlD0dz', 'language': 'ca'}, {'id': '1496028145446756353', 'text': 'RT @kheayf: https:\\\\/\\\\/t.co\\\\/Vv3ab1QZpF', 'language': 'en'}, {'id': '1495559495522701316', 'text': '@pabletesmaart no', 'language': 'es'}, {'id': '1493571322210918407', 'text': 'RT @alfonso_casas_: Hoy, mañana y SIEMPRE, no se te olvide decir(te) “te quiero” https:\\\\/\\\\/t.co\\\\/A2v5gfTg4O', 'language': 'es'}, {'id': '1493570407106023427', 'text': 'PLAZA PÚBLICA. \"Crónica de una muerte anunciada\": El documental que crea conciencia sobre el Mar Menor https:\\\\/\\\\/t.co\\\\/pEG3PfyG3j vía @ormurcia', 'language': 'es'}]}\n"
          ]
        }
      ]
    },
    {
      "cell_type": "code",
      "source": [
        "def sentiment_scores(headers, sentiment_url, document_format):\n",
        "    response = requests.post(\n",
        "        sentiment_url, headers=headers, json=document_format)\n",
        "    return response.json()"
      ],
      "metadata": {
        "id": "FlJT-UkQKDfI"
      },
      "execution_count": 27,
      "outputs": []
    },
    {
      "cell_type": "code",
      "source": [
        "sentiments = sentiment_scores(headers, sentiment_url, document_format)\n",
        "print(sentiments)"
      ],
      "metadata": {
        "colab": {
          "base_uri": "https://localhost:8080/"
        },
        "id": "nxUSnL-rKFd3",
        "outputId": "86852572-f23f-4b8e-b576-72d803c9f60a"
      },
      "execution_count": 28,
      "outputs": [
        {
          "output_type": "stream",
          "name": "stdout",
          "text": [
            "{'documents': [{'id': '1499672168690589698', 'score': 0.5}, {'id': '1499316606689808387', 'score': 0.9717398881912231}, {'id': '1499006145079431175', 'score': 0.5}, {'id': '1499005152648482824', 'score': 0.5}, {'id': '1496028145446756353', 'score': 0.5}, {'id': '1504496211717459973', 'score': 0.3211559057235718}, {'id': '1503258942255902721', 'score': 0.5}, {'id': '1499671447219933185', 'score': 0.493371844291687}, {'id': '1499345085338689538', 'score': 0.7702702879905701}, {'id': '1499005891856809985', 'score': 0.5}, {'id': '1498344733596430338', 'score': 0.4910581707954407}, {'id': '1498195206151225354', 'score': 0.7482664585113525}, {'id': '1498194926026244099', 'score': 0.596170961856842}, {'id': '1497908536663236608', 'score': 0.5206627249717712}, {'id': '1497856043598102531', 'score': 0.5769621133804321}, {'id': '1497855390620565508', 'score': 0.5}, {'id': '1497261974782201863', 'score': 0.5080981850624084}, {'id': '1495559495522701316', 'score': 0.3824429512023926}, {'id': '1493571322210918407', 'score': 0.5217459797859192}, {'id': '1493570407106023427', 'score': 0.5487805604934692}], 'errors': [{'id': '1496485232064835589', 'message': 'Invalid language code. Supported languages: ar,da,de,el,en,es,fi,fr,it,ja,nl,no,pl,pt-PT,ru,sv,tr,zh-Hans. For additional details see https://aka.ms/text-analytics/language-support'}, {'id': '1496139319865655311', 'message': 'Invalid language code. Supported languages: ar,da,de,el,en,es,fi,fr,it,ja,nl,no,pl,pt-PT,ru,sv,tr,zh-Hans. For additional details see https://aka.ms/text-analytics/language-support'}]}\n"
          ]
        }
      ]
    },
    {
      "cell_type": "code",
      "source": [
        "def mean_score(sentiments):\n",
        "    sentiment_df = pd.DataFrame(sentiments[\"documents\"])\n",
        "    return sentiment_df[\"score\"].mean()"
      ],
      "metadata": {
        "id": "fq-2jJKGKIB6"
      },
      "execution_count": 29,
      "outputs": []
    },
    {
      "cell_type": "code",
      "source": [
        "week_score = mean_score(sentiments)\n",
        "print(week_score)"
      ],
      "metadata": {
        "colab": {
          "base_uri": "https://localhost:8080/"
        },
        "id": "EqrI9L-vKKLe",
        "outputId": "f689d642-ca77-4a1b-ab40-44ba68c4983c"
      },
      "execution_count": 30,
      "outputs": [
        {
          "output_type": "stream",
          "name": "stdout",
          "text": [
            "0.547536301612854\n"
          ]
        }
      ]
    },
    {
      "cell_type": "code",
      "source": [
        "def no_tweets(res_json):\n",
        "    if res_json == {\"meta\": {\"result_count\": 0}}:\n",
        "        print(\"The Twitter handle entered hasn't Tweeted in 7 days.\")"
      ],
      "metadata": {
        "id": "Ir7EwSprm3Pp"
      },
      "execution_count": 241,
      "outputs": []
    },
    {
      "cell_type": "code",
      "source": [
        "def connect_to_azure(data):\n",
        "    azure_url = \"https://week.cognitiveservices.azure.com/\"\n",
        "    language_api_url = \"{}text/analytics/v2.1/languages\".format(azure_url)\n",
        "    sentiment_url = \"{}text/analytics/v2.1/sentiment\".format(azure_url)\n",
        "    subscription_key = data[\"azure\"][\"subscription_key\"]\n",
        "    return sentiment_url, subscription_key"
      ],
      "metadata": {
        "id": "GUGEgKmkm3VY"
      },
      "execution_count": 242,
      "outputs": []
    },
    {
      "cell_type": "code",
      "source": [
        "def azure_header(subscription_key):\n",
        "    return {\"Ocp-Apim-Subscription-Key\": subscription_key}"
      ],
      "metadata": {
        "id": "OOyiguXZm3x2"
      },
      "execution_count": 243,
      "outputs": []
    },
    {
      "cell_type": "code",
      "source": [
        "def create_document_format(res_json):\n",
        "    data_only = res_json[\"data\"]\n",
        "    doc_start = '\"documents\": {}'.format(data_only)\n",
        "    str_json = \"{\" + doc_start + \"}\"\n",
        "    dump_doc = json.dumps(str_json)\n",
        "    doc = json.loads(dump_doc)\n",
        "    return ast.literal_eval(doc)"
      ],
      "metadata": {
        "id": "ZfcCykwvm32F"
      },
      "execution_count": 244,
      "outputs": []
    },
    {
      "cell_type": "code",
      "source": [
        "def sentiment_scores(headers, sentiment_url, document_format):\n",
        "    response = requests.post(\n",
        "        sentiment_url, headers=headers, json=document_format)\n",
        "    return response.json()"
      ],
      "metadata": {
        "id": "EwoVpSZvoIFL"
      },
      "execution_count": 245,
      "outputs": []
    },
    {
      "cell_type": "code",
      "source": [
        "def mean_score(sentiments):\n",
        "    sentiment_df = pd.DataFrame(sentiments['documents'])\n",
        "    return sentiment_df[\"score\"].mean()"
      ],
      "metadata": {
        "id": "TPkYsZSupONp"
      },
      "execution_count": 246,
      "outputs": []
    },
    {
      "cell_type": "code",
      "source": [
        "def week_logic(week_score):\n",
        "    if week_score > 0.75 or week_score == 0.75:\n",
        "        print(\"You had a positive week\")\n",
        "    elif week_score > 0.45 or week_score == 0.45:\n",
        "        print(\"You had a neutral week\")\n",
        "    else:\n",
        "        print(\"You had a negative week, I hope it gets better\")"
      ],
      "metadata": {
        "id": "ssYVDkawoQaY"
      },
      "execution_count": 247,
      "outputs": []
    },
    {
      "cell_type": "code",
      "source": [
        "def main():\n",
        "    print(\"Hola1\")\n",
        "    url = create_twitter_url()\n",
        "    data = process_yaml()\n",
        "    bearer_token = create_bearer_token(data)\n",
        "    res_json = twitter_auth_and_connect(bearer_token, url)\n",
        "    no_tweets(res_json)\n",
        "    sentiment_url, subscription_key = connect_to_azure(data)\n",
        "    headers = azure_header(subscription_key)\n",
        "    document_format = create_document_format(res_json)\n",
        "    sentiments = sentiment_scores(headers, sentiment_url, document_format)\n",
        "    week_score = mean_score(sentiments)\n",
        "    print(week_score)\n",
        "    week_logic(week_score)\n",
        "    print(\"Hola2\")"
      ],
      "metadata": {
        "id": "VBiyyQENm1MC"
      },
      "execution_count": 248,
      "outputs": []
    },
    {
      "cell_type": "code",
      "source": [
        "if __name__ == \"__main__\":\n",
        "    main()"
      ],
      "metadata": {
        "colab": {
          "base_uri": "https://localhost:8080/",
          "height": 321
        },
        "id": "gTnJ5VQdxFOC",
        "outputId": "1355c5eb-84a1-4ab1-a620-3576f4b791cc"
      },
      "execution_count": 249,
      "outputs": [
        {
          "output_type": "stream",
          "name": "stdout",
          "text": [
            "Hola1\n"
          ]
        },
        {
          "output_type": "error",
          "ename": "KeyError",
          "evalue": "ignored",
          "traceback": [
            "\u001b[0;31m---------------------------------------------------------------------------\u001b[0m",
            "\u001b[0;31mKeyError\u001b[0m                                  Traceback (most recent call last)",
            "\u001b[0;32m<ipython-input-249-972361fa1b80>\u001b[0m in \u001b[0;36m<module>\u001b[0;34m()\u001b[0m\n\u001b[1;32m      1\u001b[0m \u001b[0;32mif\u001b[0m \u001b[0m__name__\u001b[0m \u001b[0;34m==\u001b[0m \u001b[0;34m\"__main__\"\u001b[0m\u001b[0;34m:\u001b[0m\u001b[0;34m\u001b[0m\u001b[0;34m\u001b[0m\u001b[0m\n\u001b[0;32m----> 2\u001b[0;31m     \u001b[0mmain\u001b[0m\u001b[0;34m(\u001b[0m\u001b[0;34m)\u001b[0m\u001b[0;34m\u001b[0m\u001b[0;34m\u001b[0m\u001b[0m\n\u001b[0m",
            "\u001b[0;32m<ipython-input-248-e9cae767f9cd>\u001b[0m in \u001b[0;36mmain\u001b[0;34m()\u001b[0m\n\u001b[1;32m     10\u001b[0m     \u001b[0mdocument_format\u001b[0m \u001b[0;34m=\u001b[0m \u001b[0mcreate_document_format\u001b[0m\u001b[0;34m(\u001b[0m\u001b[0mres_json\u001b[0m\u001b[0;34m)\u001b[0m\u001b[0;34m\u001b[0m\u001b[0;34m\u001b[0m\u001b[0m\n\u001b[1;32m     11\u001b[0m     \u001b[0msentiments\u001b[0m \u001b[0;34m=\u001b[0m \u001b[0msentiment_scores\u001b[0m\u001b[0;34m(\u001b[0m\u001b[0mheaders\u001b[0m\u001b[0;34m,\u001b[0m \u001b[0msentiment_url\u001b[0m\u001b[0;34m,\u001b[0m \u001b[0mdocument_format\u001b[0m\u001b[0;34m)\u001b[0m\u001b[0;34m\u001b[0m\u001b[0;34m\u001b[0m\u001b[0m\n\u001b[0;32m---> 12\u001b[0;31m     \u001b[0mweek_score\u001b[0m \u001b[0;34m=\u001b[0m \u001b[0mmean_score\u001b[0m\u001b[0;34m(\u001b[0m\u001b[0msentiments\u001b[0m\u001b[0;34m)\u001b[0m\u001b[0;34m\u001b[0m\u001b[0;34m\u001b[0m\u001b[0m\n\u001b[0m\u001b[1;32m     13\u001b[0m     \u001b[0mprint\u001b[0m\u001b[0;34m(\u001b[0m\u001b[0mweek_score\u001b[0m\u001b[0;34m)\u001b[0m\u001b[0;34m\u001b[0m\u001b[0;34m\u001b[0m\u001b[0m\n\u001b[1;32m     14\u001b[0m     \u001b[0mweek_logic\u001b[0m\u001b[0;34m(\u001b[0m\u001b[0mweek_score\u001b[0m\u001b[0;34m)\u001b[0m\u001b[0;34m\u001b[0m\u001b[0;34m\u001b[0m\u001b[0m\n",
            "\u001b[0;32m<ipython-input-246-a9f51206214c>\u001b[0m in \u001b[0;36mmean_score\u001b[0;34m(sentiments)\u001b[0m\n\u001b[1;32m      1\u001b[0m \u001b[0;32mdef\u001b[0m \u001b[0mmean_score\u001b[0m\u001b[0;34m(\u001b[0m\u001b[0msentiments\u001b[0m\u001b[0;34m)\u001b[0m\u001b[0;34m:\u001b[0m\u001b[0;34m\u001b[0m\u001b[0;34m\u001b[0m\u001b[0m\n\u001b[0;32m----> 2\u001b[0;31m     \u001b[0msentiment_df\u001b[0m \u001b[0;34m=\u001b[0m \u001b[0mpd\u001b[0m\u001b[0;34m.\u001b[0m\u001b[0mDataFrame\u001b[0m\u001b[0;34m(\u001b[0m\u001b[0msentiments\u001b[0m\u001b[0;34m[\u001b[0m\u001b[0;34m'documents'\u001b[0m\u001b[0;34m]\u001b[0m\u001b[0;34m)\u001b[0m\u001b[0;34m\u001b[0m\u001b[0;34m\u001b[0m\u001b[0m\n\u001b[0m\u001b[1;32m      3\u001b[0m     \u001b[0;32mreturn\u001b[0m \u001b[0msentiment_df\u001b[0m\u001b[0;34m[\u001b[0m\u001b[0;34m\"score\"\u001b[0m\u001b[0;34m]\u001b[0m\u001b[0;34m.\u001b[0m\u001b[0mmean\u001b[0m\u001b[0;34m(\u001b[0m\u001b[0;34m)\u001b[0m\u001b[0;34m\u001b[0m\u001b[0;34m\u001b[0m\u001b[0m\n",
            "\u001b[0;31mKeyError\u001b[0m: 'documents'"
          ]
        }
      ]
    },
    {
      "cell_type": "code",
      "source": [
        "pip install panda"
      ],
      "metadata": {
        "id": "hxAPUAQj9VN4"
      },
      "execution_count": null,
      "outputs": []
    },
    {
      "cell_type": "markdown",
      "source": [
        "# Nueva sección"
      ],
      "metadata": {
        "id": "bLQcjyAIz4xW"
      }
    }
  ],
  "metadata": {
    "kernelspec": {
      "display_name": "Python 3",
      "language": "python",
      "name": "python3"
    },
    "language_info": {
      "codemirror_mode": {
        "name": "ipython",
        "version": 3
      },
      "file_extension": ".py",
      "mimetype": "text/x-python",
      "name": "python",
      "nbconvert_exporter": "python",
      "pygments_lexer": "ipython3",
      "version": "3.8.2"
    },
    "colab": {
      "name": "5 - Follow Users.ipynb",
      "provenance": [],
      "include_colab_link": true
    }
  },
  "nbformat": 4,
  "nbformat_minor": 0
}