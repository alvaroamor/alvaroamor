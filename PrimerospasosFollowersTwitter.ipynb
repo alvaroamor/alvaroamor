{
  "cells": [
    {
      "cell_type": "markdown",
      "metadata": {
        "id": "view-in-github",
        "colab_type": "text"
      },
      "source": [
        "<a href=\"https://colab.research.google.com/github/alvaroamor/alvaroamor/blob/master/PrimerospasosFollowersTwitter.ipynb\" target=\"_parent\"><img src=\"https://colab.research.google.com/assets/colab-badge.svg\" alt=\"Open In Colab\"/></a>"
      ]
    },
    {
      "cell_type": "code",
      "execution_count": 59,
      "metadata": {
        "id": "D4fsqoKSuuW4"
      },
      "outputs": [],
      "source": [
        "import tweepy\n",
        "import webbrowser\n",
        "import time\n",
        "import pandas as pd"
      ]
    },
    {
      "cell_type": "code",
      "execution_count": 60,
      "metadata": {
        "colab": {
          "base_uri": "https://localhost:8080/"
        },
        "id": "t4WmhWQWuuW-",
        "outputId": "f07694b8-99fd-49fd-e686-a79f195d0dd0"
      },
      "outputs": [
        {
          "name": "stdout",
          "output_type": "stream",
          "text": [
            "https://api.twitter.com/oauth/authorize?oauth_token=MbutUgAAAAABVJzVAAABfiCrC4I\n",
            "What's the pin value? 5047307\n"
          ]
        },
        {
          "output_type": "execute_result",
          "data": {
            "text/plain": [
              "('603047056-vKFIKvxSKuSW9czpDWmsjLXV0P1L2LR6wYfeNjgr',\n",
              " '8RMIBEqg98QzQvmXTWwt3WRmrK0p2wmteJl6iyDmGuU7v')"
            ]
          },
          "metadata": {},
          "execution_count": 60
        }
      ],
      "source": [
        "consumer_key = \"Vf0992ajFRP56yeYl0FkTF6LW\"\n",
        "consumer_secret = \"Aagx3zo6PpUZGRddwFDkrIBOJcTMRmIgdVV2U4q8ZtsTBvUMWz\"\n",
        "callback_uri = 'oob'\n",
        "auth = tweepy.OAuthHandler(consumer_key, consumer_secret, callback_uri)\n",
        "redirect_url = auth.get_authorization_url()\n",
        "webbrowser.open(redirect_url)\n",
        "print(redirect_url)\n",
        "user_pint_input = input(\"What's the pin value? \")\n",
        "auth.get_access_token(user_pint_input)"
      ]
    },
    {
      "cell_type": "code",
      "execution_count": 61,
      "metadata": {
        "id": "0qSSQnUJuuXA"
      },
      "outputs": [],
      "source": [
        "api = tweepy.API(auth)"
      ]
    },
    {
      "cell_type": "code",
      "execution_count": 62,
      "metadata": {
        "colab": {
          "base_uri": "https://localhost:8080/",
          "height": 35
        },
        "id": "_EsK21ueuuXB",
        "outputId": "54d140aa-a8b6-42ea-ce91-5cac3588550a"
      },
      "outputs": [
        {
          "output_type": "execute_result",
          "data": {
            "application/vnd.google.colaboratory.intrinsic+json": {
              "type": "string"
            },
            "text/plain": [
              "'AlvaroAmor4'"
            ]
          },
          "metadata": {},
          "execution_count": 62
        }
      ],
      "source": [
        "me = api.me()\n",
        "me.screen_name"
      ]
    },
    {
      "cell_type": "code",
      "execution_count": 63,
      "metadata": {
        "id": "FHwXDUZvuuXB"
      },
      "outputs": [],
      "source": [
        "user = api.get_user(\"Elena25__\")\n",
        "\n",
        "user2 = api.foll"
      ]
    },
    {
      "cell_type": "code",
      "execution_count": 64,
      "metadata": {
        "colab": {
          "base_uri": "https://localhost:8080/"
        },
        "id": "G8B9QhMZuuXC",
        "outputId": "a6119f7e-0e02-4d8e-937b-6f75ffc438bb"
      },
      "outputs": [
        {
          "output_type": "stream",
          "name": "stdout",
          "text": [
            "316 196\n"
          ]
        }
      ],
      "source": [
        "print(user.followers_count, user.friends_count)"
      ]
    },
    {
      "cell_type": "code",
      "execution_count": 65,
      "metadata": {
        "colab": {
          "base_uri": "https://localhost:8080/"
        },
        "id": "yMCXrFIPuuXC",
        "outputId": "54c0d90c-4e52-432d-e3ec-be6c72d8e070"
      },
      "outputs": [
        {
          "output_type": "stream",
          "name": "stdout",
          "text": [
            "Laaau_mg\n",
            "['Laaau_mg']\n",
            "Franciscomeroo\n",
            "['Franciscomeroo', 'Laaau_mg']\n",
            "luis_schwarz_\n",
            "['Franciscomeroo', 'Laaau_mg', 'luis_schwarz_']\n",
            "Danieltgodoy\n",
            "['Danieltgodoy', 'Franciscomeroo', 'Laaau_mg', 'luis_schwarz_']\n",
            "reacamcu\n",
            "['Danieltgodoy', 'Franciscomeroo', 'Laaau_mg', 'luis_schwarz_', 'reacamcu']\n",
            "_Olivacarmen\n",
            "['Danieltgodoy', 'Franciscomeroo', 'Laaau_mg', '_Olivacarmen', 'luis_schwarz_', 'reacamcu']\n",
            "JuventudPinatar\n",
            "['Danieltgodoy', 'Franciscomeroo', 'JuventudPinatar', 'Laaau_mg', '_Olivacarmen', 'luis_schwarz_', 'reacamcu']\n",
            "DamiiEc23\n",
            "['DamiiEc23', 'Danieltgodoy', 'Franciscomeroo', 'JuventudPinatar', 'Laaau_mg', '_Olivacarmen', 'luis_schwarz_', 'reacamcu']\n",
            "MoleroJosemi\n",
            "['DamiiEc23', 'Danieltgodoy', 'Franciscomeroo', 'JuventudPinatar', 'Laaau_mg', 'MoleroJosemi', '_Olivacarmen', 'luis_schwarz_', 'reacamcu']\n",
            "edutakone\n",
            "['DamiiEc23', 'Danieltgodoy', 'Franciscomeroo', 'JuventudPinatar', 'Laaau_mg', 'MoleroJosemi', '_Olivacarmen', 'edutakone', 'luis_schwarz_', 'reacamcu']\n",
            "adri__pg\n",
            "['DamiiEc23', 'Danieltgodoy', 'Franciscomeroo', 'JuventudPinatar', 'Laaau_mg', 'MoleroJosemi', '_Olivacarmen', 'adri__pg', 'edutakone', 'luis_schwarz_', 'reacamcu']\n",
            "mariosocrazy\n",
            "['DamiiEc23', 'Danieltgodoy', 'Franciscomeroo', 'JuventudPinatar', 'Laaau_mg', 'MoleroJosemi', '_Olivacarmen', 'adri__pg', 'edutakone', 'luis_schwarz_', 'mariosocrazy', 'reacamcu']\n",
            "iliaslamziraa\n",
            "['DamiiEc23', 'Danieltgodoy', 'Franciscomeroo', 'JuventudPinatar', 'Laaau_mg', 'MoleroJosemi', '_Olivacarmen', 'adri__pg', 'edutakone', 'iliaslamziraa', 'luis_schwarz_', 'mariosocrazy', 'reacamcu']\n",
            "luciavalcarcel_\n",
            "['DamiiEc23', 'Danieltgodoy', 'Franciscomeroo', 'JuventudPinatar', 'Laaau_mg', 'MoleroJosemi', '_Olivacarmen', 'adri__pg', 'edutakone', 'iliaslamziraa', 'luciavalcarcel_', 'luis_schwarz_', 'mariosocrazy', 'reacamcu']\n",
            "CanovasJorge\n",
            "['CanovasJorge', 'DamiiEc23', 'Danieltgodoy', 'Franciscomeroo', 'JuventudPinatar', 'Laaau_mg', 'MoleroJosemi', '_Olivacarmen', 'adri__pg', 'edutakone', 'iliaslamziraa', 'luciavalcarcel_', 'luis_schwarz_', 'mariosocrazy', 'reacamcu']\n",
            "blancanievesum8\n",
            "['CanovasJorge', 'DamiiEc23', 'Danieltgodoy', 'Franciscomeroo', 'JuventudPinatar', 'Laaau_mg', 'MoleroJosemi', '_Olivacarmen', 'adri__pg', 'blancanievesum8', 'edutakone', 'iliaslamziraa', 'luciavalcarcel_', 'luis_schwarz_', 'mariosocrazy', 'reacamcu']\n",
            "narcisonfor\n",
            "['CanovasJorge', 'DamiiEc23', 'Danieltgodoy', 'Franciscomeroo', 'JuventudPinatar', 'Laaau_mg', 'MoleroJosemi', '_Olivacarmen', 'adri__pg', 'blancanievesum8', 'edutakone', 'iliaslamziraa', 'luciavalcarcel_', 'luis_schwarz_', 'mariosocrazy', 'narcisonfor', 'reacamcu']\n",
            "PetrarCancioner\n",
            "['CanovasJorge', 'DamiiEc23', 'Danieltgodoy', 'Franciscomeroo', 'JuventudPinatar', 'Laaau_mg', 'MoleroJosemi', 'PetrarCancioner', '_Olivacarmen', 'adri__pg', 'blancanievesum8', 'edutakone', 'iliaslamziraa', 'luciavalcarcel_', 'luis_schwarz_', 'mariosocrazy', 'narcisonfor', 'reacamcu']\n",
            "ffaza96\n",
            "['CanovasJorge', 'DamiiEc23', 'Danieltgodoy', 'Franciscomeroo', 'JuventudPinatar', 'Laaau_mg', 'MoleroJosemi', 'PetrarCancioner', '_Olivacarmen', 'adri__pg', 'blancanievesum8', 'edutakone', 'ffaza96', 'iliaslamziraa', 'luciavalcarcel_', 'luis_schwarz_', 'mariosocrazy', 'narcisonfor', 'reacamcu']\n",
            "alexcabmar991\n",
            "['CanovasJorge', 'DamiiEc23', 'Danieltgodoy', 'Franciscomeroo', 'JuventudPinatar', 'Laaau_mg', 'MoleroJosemi', 'PetrarCancioner', '_Olivacarmen', 'adri__pg', 'alexcabmar991', 'blancanievesum8', 'edutakone', 'ffaza96', 'iliaslamziraa', 'luciavalcarcel_', 'luis_schwarz_', 'mariosocrazy', 'narcisonfor', 'reacamcu']\n"
          ]
        }
      ],
      "source": [
        "my_new_friends = []\n",
        "lista = []\n",
        "listaordenada = []\n",
        "user_friends = user.followers()\n",
        "for friend in user_friends:\n",
        "        print(friend.screen_name)\n",
        "        lista.append(friend.screen_name)\n",
        "        listaordenada = sorted(lista)\n",
        "        print(listaordenada)"
      ]
    },
    {
      "cell_type": "code",
      "source": [
        "lista2 = []\n",
        "for k in listaordenada:\n",
        "  user = api.get_user(k)\n",
        "  print(user.followers_count, user.friends_count, user.screen_name)\n",
        "  followers = user.followers_count\n",
        "  nombre = user.screen_name\n",
        "  lista2.append((nombre,followers))\n",
        "\n",
        "\n",
        "print(lista2)\n",
        "\n",
        "\n",
        "\n",
        "\n",
        "\n"
      ],
      "metadata": {
        "colab": {
          "base_uri": "https://localhost:8080/"
        },
        "id": "AsU00luaZQL5",
        "outputId": "6929c06b-286c-44b0-fa59-2ac59c469b0a"
      },
      "execution_count": 66,
      "outputs": [
        {
          "output_type": "stream",
          "name": "stdout",
          "text": [
            "267 269 CanovasJorge\n",
            "19 208 DamiiEc23\n",
            "172 177 Danieltgodoy\n",
            "684 402 Franciscomeroo\n",
            "255 324 JuventudPinatar\n",
            "208 228 Laaau_mg\n",
            "67 146 MoleroJosemi\n",
            "35 60 PetrarCancioner\n",
            "122 110 _Olivacarmen\n",
            "55 49 adri__pg\n",
            "66 138 alexcabmar991\n",
            "10 170 blancanievesum8\n",
            "1058 451 edutakone\n",
            "689 375 ffaza96\n",
            "280 373 iliaslamziraa\n",
            "110 199 luciavalcarcel_\n",
            "306 294 luis_schwarz_\n",
            "977 388 mariosocrazy\n",
            "706 814 narcisonfor\n",
            "23 19 reacamcu\n",
            "[('CanovasJorge', 267), ('DamiiEc23', 19), ('Danieltgodoy', 172), ('Franciscomeroo', 684), ('JuventudPinatar', 255), ('Laaau_mg', 208), ('MoleroJosemi', 67), ('PetrarCancioner', 35), ('_Olivacarmen', 122), ('adri__pg', 55), ('alexcabmar991', 66), ('blancanievesum8', 10), ('edutakone', 1058), ('ffaza96', 689), ('iliaslamziraa', 280), ('luciavalcarcel_', 110), ('luis_schwarz_', 306), ('mariosocrazy', 977), ('narcisonfor', 706), ('reacamcu', 23)]\n"
          ]
        }
      ]
    },
    {
      "cell_type": "code",
      "source": [
        "def imprimir(lista2):\n",
        "    print(\"Followers y sus nombres\")\n",
        "    for x in range(len(lista2)):\n",
        "        print(lista2[x][0],lista2[x][1])\n",
        "\n",
        "def pais_maspoblacion(lista2):\n",
        "    pos=0\n",
        "    for x in range(1,len(lista2)):\n",
        "        if lista2[x][1]>lista2[pos][1]:\n",
        "            pos=x\n",
        "    print(\"Persona con mas followers:\",lista2[pos][0])"
      ],
      "metadata": {
        "id": "CtdJHsNmnz7K"
      },
      "execution_count": 67,
      "outputs": []
    },
    {
      "cell_type": "code",
      "source": [
        "imprimir(lista2)\n",
        "pais_maspoblacion(lista2)"
      ],
      "metadata": {
        "colab": {
          "base_uri": "https://localhost:8080/"
        },
        "id": "tMoUqBXtoA5a",
        "outputId": "0e0a6159-9ff2-4c42-8940-83b8d4fc3c48"
      },
      "execution_count": 68,
      "outputs": [
        {
          "output_type": "stream",
          "name": "stdout",
          "text": [
            "Followers y sus nombres\n",
            "CanovasJorge 267\n",
            "DamiiEc23 19\n",
            "Danieltgodoy 172\n",
            "Franciscomeroo 684\n",
            "JuventudPinatar 255\n",
            "Laaau_mg 208\n",
            "MoleroJosemi 67\n",
            "PetrarCancioner 35\n",
            "_Olivacarmen 122\n",
            "adri__pg 55\n",
            "alexcabmar991 66\n",
            "blancanievesum8 10\n",
            "edutakone 1058\n",
            "ffaza96 689\n",
            "iliaslamziraa 280\n",
            "luciavalcarcel_ 110\n",
            "luis_schwarz_ 306\n",
            "mariosocrazy 977\n",
            "narcisonfor 706\n",
            "reacamcu 23\n",
            "Persona con mas followers: edutakone\n"
          ]
        }
      ]
    }
  ],
  "metadata": {
    "kernelspec": {
      "display_name": "Python 3",
      "language": "python",
      "name": "python3"
    },
    "language_info": {
      "codemirror_mode": {
        "name": "ipython",
        "version": 3
      },
      "file_extension": ".py",
      "mimetype": "text/x-python",
      "name": "python",
      "nbconvert_exporter": "python",
      "pygments_lexer": "ipython3",
      "version": "3.8.2"
    },
    "colab": {
      "name": "5 - Follow Users.ipynb",
      "provenance": [],
      "include_colab_link": true
    }
  },
  "nbformat": 4,
  "nbformat_minor": 0
}