{
  "nbformat": 4,
  "nbformat_minor": 0,
  "metadata": {
    "colab": {
      "name": "Fixed point iteration.ipynb",
      "provenance": [],
      "authorship_tag": "ABX9TyMRWFvnk+yvx1RTtjg2tp9+",
      "include_colab_link": true
    },
    "kernelspec": {
      "name": "python3",
      "display_name": "Python 3"
    }
  },
  "cells": [
    {
      "cell_type": "markdown",
      "metadata": {
        "id": "view-in-github",
        "colab_type": "text"
      },
      "source": [
        "<a href=\"https://colab.research.google.com/github/alvaroamor/alvaroamor/blob/master/Lab4.1FixedPointIteration.ipynb\" target=\"_parent\"><img src=\"https://colab.research.google.com/assets/colab-badge.svg\" alt=\"Open In Colab\"/></a>"
      ]
    },
    {
      "cell_type": "code",
      "metadata": {
        "id": "9j389pVplVMj",
        "colab_type": "code",
        "outputId": "d7acd186-1f85-4dbc-a78d-5aa559f9686a",
        "colab": {
          "base_uri": "https://localhost:8080/",
          "height": 225
        }
      },
      "source": [
        "import math\n",
        "\n",
        "S=6\n",
        "def f(x):\n",
        "   return x*x-S\n",
        "\n",
        "# Re-writing f(x)=0 to x = g(x)\n",
        "def g(x):\n",
        "   return (1/2)*(x+S/x)\n",
        "\n",
        "# Implementing Fixed Point Iteration Method\n",
        "def fixedPointIteration(x0, e,ex, N):\n",
        "   print('\\n\\n*** FIXED POINT ITERATION ***')\n",
        "   step = 1\n",
        " \n",
        "   condition = True\n",
        "   while condition:\n",
        "      x1 = g(x0)\n",
        "      xhelp= x1-x0\n",
        "      print('Iteration-%d, x1 = %0.6f and f(x1) = %0.6f' % (step, x1, f(x1)))\n",
        "      x0 = x1\n",
        "      step = step + 1\n",
        "     \n",
        "      condition1 = abs(f(x1)) > e\n",
        "      condition2= step<N\n",
        "      condition3= abs(xhelp)>ex\n",
        "      condition= condition1 and condition2 and condition3\n",
        "   \n",
        "\n",
        "# Input Section\n",
        "x0 = input('Enter Guess: ')\n",
        "e = input('Tolerable Error: ')\n",
        "N = input('Maximum Step: ')\n",
        "ex= input('2 Tolerable Error: ')\n",
        "# Converting x0 and e to float\n",
        "x0 = float(x0)\n",
        "e = float(e)\n",
        "# Converting N to integer\n",
        "N = int(N)\n",
        "ex= float(ex)\n",
        "#Note: You can combine above three section like this\n",
        "# x0 = float(input('Enter Guess: '))\n",
        "# e = float(input('Tolerable Error: '))\n",
        "# N = int(input('Maximum Step: '))\n",
        "# Starting fixed point iteration\n",
        "fixedPointIteration(x0,e,ex, N)"
      ],
      "execution_count": 2,
      "outputs": [
        {
          "output_type": "stream",
          "text": [
            "Enter Guess: 0.7\n",
            "Tolerable Error: 0.00001\n",
            "Maximum Step: 20\n",
            "2 Tolerable Error: 0.0003\n",
            "\n",
            "\n",
            "*** FIXED POINT ITERATION ***\n",
            "Iteration-1, x1 = 4.635714 and f(x1) = 15.489847\n",
            "Iteration-2, x1 = 2.965007 and f(x1) = 2.791264\n",
            "Iteration-3, x1 = 2.494305 and f(x1) = 0.221560\n",
            "Iteration-4, x1 = 2.449892 and f(x1) = 0.001973\n",
            "Iteration-5, x1 = 2.449490 and f(x1) = 0.000000\n"
          ],
          "name": "stdout"
        }
      ]
    }
  ]
}