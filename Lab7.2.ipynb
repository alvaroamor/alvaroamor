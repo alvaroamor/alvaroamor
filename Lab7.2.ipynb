{
  "nbformat": 4,
  "nbformat_minor": 0,
  "metadata": {
    "colab": {
      "name": "Copia de lab7_polynomial_interpolation.ipynb",
      "provenance": [],
      "include_colab_link": true
    },
    "kernelspec": {
      "name": "python3",
      "display_name": "Python 3"
    }
  },
  "cells": [
    {
      "cell_type": "markdown",
      "metadata": {
        "id": "view-in-github",
        "colab_type": "text"
      },
      "source": [
        "<a href=\"https://colab.research.google.com/github/alvaroamor/alvaroamor/blob/master/Lab7.2.ipynb\" target=\"_parent\"><img src=\"https://colab.research.google.com/assets/colab-badge.svg\" alt=\"Open In Colab\"/></a>"
      ]
    },
    {
      "cell_type": "markdown",
      "metadata": {
        "id": "sh7eQfVu4I03",
        "colab_type": "text"
      },
      "source": [
        "# **Polynomial Interpolation**"
      ]
    },
    {
      "cell_type": "code",
      "metadata": {
        "id": "Xjngi8KftPv_",
        "colab_type": "code",
        "outputId": "23bc0fc2-c99a-4e20-a96b-90c27a0ae1bc",
        "colab": {
          "base_uri": "https://localhost:8080/",
          "height": 121
        }
      },
      "source": [
        "# Lagrange Polynomials in Python\n",
        "import numpy as np\n",
        "from random import *\n",
        "\n",
        "def  lagrange(x,i,xm):\n",
        "  \"\"\"\n",
        "  Evaluates  the i-th  Lagrange  polynomial  at point x \n",
        "  based on grid  data xm\n",
        "  \"\"\"\n",
        "  n=len(xm)-1\n",
        "  y=1.\n",
        "  for j in  range(n+1):\n",
        "    if i!=j:\n",
        "      y*=(x-xm[j])/(xm[i]-xm[j])\n",
        "  return y\n",
        "\n",
        "\n",
        "def  interpolation(x,xm ,ym):\n",
        "  n=len(xm)-1\n",
        "  lagrpoly=np.array([lagrange(x,i,xm) for i in range(n+1)])\n",
        "  y = np.dot(ym ,lagrpoly)\n",
        "  return y\n",
        "\n",
        "\n",
        "pts = randint(3,20)\n",
        "xm = np.linspace(0,10,pts)\n",
        "ym = np.sin(xm)\n",
        "xplot = np.linspace(-0.1,10.1,100)\n",
        "yplot = interpolation(xplot, xm, ym)\n",
        "\n",
        "print('X dataponts: ',xm)\n",
        "print('Y dataponts: ',ym)\n",
        "\n",
        "\n",
        "\n",
        "## We write the code for the error\n",
        "\n",
        "error = abs(yplot-np.sin(xplot))\n",
        "\n",
        "\n",
        "\n"
      ],
      "execution_count": 0,
      "outputs": [
        {
          "output_type": "stream",
          "text": [
            "X dataponts:  [ 0.          0.76923077  1.53846154  2.30769231  3.07692308  3.84615385\n",
            "  4.61538462  5.38461538  6.15384615  6.92307692  7.69230769  8.46153846\n",
            "  9.23076923 10.        ]\n",
            "Y dataponts:  [ 0.          0.69558279  0.99947728  0.740558    0.06462451 -0.64769957\n",
            " -0.99529876 -0.78243716 -0.12897884  0.5971085   0.98695921  0.82104518\n",
            "  0.19279396 -0.54402111]\n"
          ],
          "name": "stdout"
        }
      ]
    },
    {
      "cell_type": "markdown",
      "metadata": {
        "id": "oTsu4-KF4ESg",
        "colab_type": "text"
      },
      "source": [
        "# **Plot the results**"
      ]
    },
    {
      "cell_type": "code",
      "metadata": {
        "id": "YcRDvGrB4QUg",
        "colab_type": "code",
        "outputId": "8b1e576e-c1bc-4ab2-9e97-da618b4817da",
        "colab": {
          "base_uri": "https://localhost:8080/",
          "height": 265
        }
      },
      "source": [
        "\n",
        "def polyplot(xm, ym, xplot, yplot):\n",
        "  # Import pyplot as plt\n",
        "  import matplotlib.pyplot as plt\n",
        "\n",
        "  #plot the function\n",
        "  yy = np.linspace(0,0,len(xm))\n",
        "  plt.plot(xplot, error, lw=2, label='error function')\n",
        "  plt.plot(xm, yy, 'o', label='points')\n",
        "\n",
        "  plt.legend()\n",
        "  plt.show()\n",
        "\n",
        "polyplot(xm, ym, xplot, yplot)  \n"
      ],
      "execution_count": 0,
      "outputs": [
        {
          "output_type": "display_data",
          "data": {
            "image/png": "[encoded data removed]",
            "text/plain": [
              "<Figure size 432x288 with 1 Axes>"
            ]
          },
          "metadata": {
            "tags": [],
            "needs_background": "light"
          }
        }
      ]
    },
    {
      "cell_type": "markdown",
      "metadata": {
        "id": "8bdJXcCt5Pu0",
        "colab_type": "text"
      },
      "source": [
        "# **Newton base**"
      ]
    },
    {
      "cell_type": "code",
      "metadata": {
        "id": "uhC9SPGs5TOl",
        "colab_type": "code",
        "outputId": "d728c8eb-078d-4c4c-c6ca-9c924d14843d",
        "colab": {
          "base_uri": "https://localhost:8080/",
          "height": 34
        }
      },
      "source": [
        "def poly_newton_coefficient(x, y):\n",
        "    \"\"\"\n",
        "    x: list or np array contanining x data points\n",
        "    y: list or np array contanining y data points\n",
        "    \"\"\"\n",
        "\n",
        "    m = len(x)\n",
        "\n",
        "    x = np.copy(x)\n",
        "    a = np.copy(y).astype(float)\n",
        "\n",
        "    for k in range(1, m):\n",
        "        for i in range(m-1, k-1, -1):\n",
        "            a[i] = float(a[i]-a[i-1])/float(x[i]-x[i-k])\n",
        "            \n",
        "    return a\n",
        "\n",
        "def newton_interpolation(x, x_data, y_data):\n",
        "    \"\"\"\n",
        "    x: evaluation point(s)\n",
        "    x_data: data points at x\n",
        "    y_data: data points at y\n",
        "     \"\"\"\n",
        "    a = poly_newton_coefficient(x_data, y_data)\n",
        "    n = len(x_data) - 1  # Degree of polynomial\n",
        "    p = a[n]\n",
        "    print(\"array a = \",a)\n",
        "\n",
        "    for k in range(1, n + 1):\n",
        "        p = a[n - k] + (x - x_data[n - k])*p\n",
        "\n",
        "    return p\n",
        "\n",
        "\n",
        "\n",
        "#xm = np.array([-1,0,1,2])\n",
        "#ym = np.array([5,1,1,11])\n",
        "#xplot = np.linspace(-1.1,2.1,100)\n",
        "#xplot = np.array([-1,0,1,2])\n",
        "\n",
        "xm = np.array([1,2,3,4,5,6])\n",
        "ym = np.array([-3,0,-1,2,1,4])\n",
        "xplot = np.linspace(0.9,6.1,100)\n",
        "yplot = newton_interpolation(xplot, xm, ym)\n",
        "\n"
      ],
      "execution_count": 0,
      "outputs": [
        {
          "output_type": "stream",
          "text": [
            "array a =  [-3.          3.         -2.          1.33333333 -0.66666667  0.26666667]\n"
          ],
          "name": "stdout"
        }
      ]
    },
    {
      "cell_type": "markdown",
      "metadata": {
        "id": "CeZ_P61C7Fbb",
        "colab_type": "text"
      },
      "source": [
        "# **Plot the results**"
      ]
    },
    {
      "cell_type": "code",
      "metadata": {
        "id": "NMarIWPQ7D2C",
        "colab_type": "code",
        "outputId": "21dce214-a243-4e40-f73e-a9250f5d6ab9",
        "colab": {
          "base_uri": "https://localhost:8080/",
          "height": 265
        }
      },
      "source": [
        "polyplot(xm, ym, xplot, yplot) "
      ],
      "execution_count": 0,
      "outputs": [
        {
          "output_type": "display_data",
          "data": {
            "image/png": "[encoded data removed]",
            "text/plain": [
              "<Figure size 432x288 with 1 Axes>"
            ]
          },
          "metadata": {
            "tags": [],
            "needs_background": "light"
          }
        }
      ]
    }
  ]
}